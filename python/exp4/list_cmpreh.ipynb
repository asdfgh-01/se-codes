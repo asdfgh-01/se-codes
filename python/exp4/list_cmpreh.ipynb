{
 "cells": [
  {
   "cell_type": "code",
   "execution_count": 10,
   "metadata": {},
   "outputs": [
    {
     "name": "stdout",
     "output_type": "stream",
     "text": [
      "['apple', 'banana', 'dragonfruit', 'mango']\n"
     ]
    }
   ],
   "source": [
    "fruits = ['apple','banana','dragonfruit','mango','cherry']\n",
    "new = []\n",
    "for fruit in fruits:\n",
    "    if 'a' in fruit:\n",
    "        new.append(fruit)\n",
    "print(new)"
   ]
  },
  {
   "cell_type": "code",
   "execution_count": 11,
   "metadata": {},
   "outputs": [
    {
     "name": "stdout",
     "output_type": "stream",
     "text": [
      "['apple', 'banana', 'dragonfruit', 'mango']\n"
     ]
    }
   ],
   "source": [
    "#list compression of above code\n",
    "new_list = [fruit for fruit in fruits if 'a' in fruit]\n",
    "print(new_list)"
   ]
  },
  {
   "cell_type": "code",
   "execution_count": 12,
   "metadata": {},
   "outputs": [
    {
     "name": "stdout",
     "output_type": "stream",
     "text": [
      "['banana', 'dragonfruit', 'mango', 'cherry']\n"
     ]
    }
   ],
   "source": [
    "new_list1 = [fruit for fruit in fruits if 'apple' not in fruit]\n",
    "print(new_list1)"
   ]
  },
  {
   "cell_type": "code",
   "execution_count": 13,
   "metadata": {},
   "outputs": [
    {
     "name": "stdout",
     "output_type": "stream",
     "text": [
      "[0, 1, 2, 3, 4, 5]\n"
     ]
    }
   ],
   "source": [
    "new_list2 = [x for x in range(10) if x<6]\n",
    "print(new_list2)"
   ]
  },
  {
   "cell_type": "code",
   "execution_count": 15,
   "metadata": {},
   "outputs": [
    {
     "name": "stdout",
     "output_type": "stream",
     "text": [
      "['APPLE', 'BANANA', 'DRAGONFRUIT', 'MANGO', 'CHERRY']\n"
     ]
    }
   ],
   "source": [
    "new_list3 = [fruit.upper() for fruit in fruits]\n",
    "print(new_list3)"
   ]
  },
  {
   "cell_type": "code",
   "execution_count": 25,
   "metadata": {},
   "outputs": [
    {
     "name": "stdout",
     "output_type": "stream",
     "text": [
      "['apple', 'orange', 'dragonfruit', 'mango', 'cherry']\n"
     ]
    }
   ],
   "source": [
    "new_list4 = [fruit if fruit!='banana' else 'orange' for fruit in fruits] #cannnot\n",
    "print(new_list4)"
   ]
  },
  {
   "cell_type": "code",
   "execution_count": 27,
   "metadata": {},
   "outputs": [
    {
     "name": "stdout",
     "output_type": "stream",
     "text": [
      "[0, 2, 4, 6, 8, 10, 12, 14]\n"
     ]
    }
   ],
   "source": [
    "new_list5 = [num for num in range(15) if num%2==0]\n",
    "print(new_list5)"
   ]
  },
  {
   "cell_type": "code",
   "execution_count": 29,
   "metadata": {},
   "outputs": [
    {
     "name": "stdout",
     "output_type": "stream",
     "text": [
      "[10, 20, 30, 40, 50, 60, 70, 80, 90, 100]\n"
     ]
    }
   ],
   "source": [
    "new_list6 = [num*10 for num in range(1,11)]\n",
    "print(new_list6)"
   ]
  }
 ],
 "metadata": {
  "kernelspec": {
   "display_name": "Python 3",
   "language": "python",
   "name": "python3"
  },
  "language_info": {
   "codemirror_mode": {
    "name": "ipython",
    "version": 3
   },
   "file_extension": ".py",
   "mimetype": "text/x-python",
   "name": "python",
   "nbconvert_exporter": "python",
   "pygments_lexer": "ipython3",
   "version": "3.8.10"
  }
 },
 "nbformat": 4,
 "nbformat_minor": 4
}
